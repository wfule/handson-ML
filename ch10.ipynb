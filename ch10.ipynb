{
 "cells": [
  {
   "cell_type": "markdown",
   "metadata": {},
   "source": [
    "# Chapter 10. Introduction to ANN with Keras"
   ]
  },
  {
   "cell_type": "markdown",
   "metadata": {},
   "source": [
    "## Implementing MLPs with Keras"
   ]
  },
  {
   "cell_type": "code",
   "execution_count": 1,
   "metadata": {
    "scrolled": true
   },
   "outputs": [
    {
     "name": "stdout",
     "output_type": "stream",
     "text": [
      "tensorflow: 2.0.0-beta1\n",
      "keras: 2.2.4-tf\n"
     ]
    }
   ],
   "source": [
    "import tensorflow as tf\n",
    "from tensorflow import keras\n",
    "\n",
    "print('tensorflow:', tf.__version__)\n",
    "print('keras:', keras.__version__)"
   ]
  },
  {
   "cell_type": "markdown",
   "metadata": {},
   "source": [
    "Keras provides some utility functions to fetch and load common datasets, including MNIST, Fashion MNIST, and the California housing dataset."
   ]
  },
  {
   "cell_type": "code",
   "execution_count": 2,
   "metadata": {},
   "outputs": [],
   "source": [
    "fashion_mnist = keras.datasets.fashion_mnist\n",
    "(X_train_full, y_train_full), (X_test, y_test) = fashion_mnist.load_data()\n",
    "\n",
    "class_names = ['T-shirt/top', 'Trouser', 'Pullover', 'Dress', 'Coat',\n",
    "               'Sandal', 'Shirt', 'Sneaker', 'Bag', 'Ankle boot']"
   ]
  },
  {
   "cell_type": "markdown",
   "metadata": {},
   "source": [
    "Note that the dataset is already split into a training set and a test set, but there is no validation set, so we'll create one now.\n",
    "\n",
    "We are going to train the network using Gradient Descent, we must scale the input features. We'll scale the pixel intensities down to the 0-1 range."
   ]
  },
  {
   "cell_type": "code",
   "execution_count": 3,
   "metadata": {},
   "outputs": [],
   "source": [
    "X_valid, X_train = X_train_full[:5000] / 255.0, X_train_full[5000:] / 255.0\n",
    "y_valid, y_train = y_train_full[:5000], y_train_full[5000:]"
   ]
  },
  {
   "cell_type": "markdown",
   "metadata": {},
   "source": [
    "Here we create a `Sequential` model.\n",
    "\n",
    "- The first layer is a `Flatten` layer, whose role is to convert each input image into a 1D array: if it receives input data `X`, it computes `X.reshape(-1, 1)`.\n",
    "- Next we add a `Dense` hidden layer, with 300 neurons, using the ReLU activation function. Each `Dense` layer manages its own weight matrix, containing all the connection weights between the neurons and their inputs. It also manages a vector of bias terms, one per neuron. When it receives some input data, it computes\n",
    "    $$\n",
    "        h_{W,b}(X) = \\phi(XW+b).\n",
    "    $$\n",
    "- Then we add a second `Dense` hidden layer, with 100 neurons, using the ReLU activation function.\n",
    "- Finally, we add a `Dense` output layer, with 10 neurons, one per class, using the softmax activation function because the classes are *exclusive*."
   ]
  },
  {
   "cell_type": "code",
   "execution_count": 4,
   "metadata": {},
   "outputs": [
    {
     "name": "stdout",
     "output_type": "stream",
     "text": [
      "Model: \"sequential\"\n",
      "_________________________________________________________________\n",
      "Layer (type)                 Output Shape              Param #   \n",
      "=================================================================\n",
      "flatten (Flatten)            (None, 784)               0         \n",
      "_________________________________________________________________\n",
      "dense (Dense)                (None, 300)               235500    \n",
      "_________________________________________________________________\n",
      "dense_1 (Dense)              (None, 100)               30100     \n",
      "_________________________________________________________________\n",
      "dense_2 (Dense)              (None, 10)                1010      \n",
      "=================================================================\n",
      "Total params: 266,610\n",
      "Trainable params: 266,610\n",
      "Non-trainable params: 0\n",
      "_________________________________________________________________\n"
     ]
    }
   ],
   "source": [
    "model = keras.models.Sequential([\n",
    "    keras.layers.Flatten(input_shape=[28, 28]),\n",
    "    keras.layers.Dense(300, activation=keras.activations.relu),\n",
    "    keras.layers.Dense(100, activation=keras.activations.relu),\n",
    "    keras.layers.Dense(10, activation=keras.activations.softmax),\n",
    "])\n",
    "model.summary()"
   ]
  },
  {
   "cell_type": "markdown",
   "metadata": {},
   "source": [
    "Note that `Dense` layers often have a lot of parameters. For example, the first hidden layer has $784 \\times 300$ connection weights, plus $300$ bias terms, which adds up to $235,500$ parameters. This gives the model quite a lot of flexibility to fit the training data, but also means that the model runs the risk of *overfitting*.\n",
    "\n",
    "All the parameters of a layer can be accessed using its `get_weights()` and `set_weights()` methods. For a `Dense` layer, this includes both the connection weights and the bias terms.\n",
    "\n",
    "Notice that the Dense layer initialized the connection weights randomly (which is needed to break symmetry), and the biases were initialized to zeros, which is fine. If you ever want to use a different initialization method, you can set `kernel_initializer` (*kernel* is another name for the matrix of connection weights) or `bias_initializer` when creating the layer."
   ]
  },
  {
   "cell_type": "code",
   "execution_count": 5,
   "metadata": {},
   "outputs": [],
   "source": [
    "hidden1 = model.layers[1]\n",
    "weights, biases = hidden1.get_weights()"
   ]
  },
  {
   "cell_type": "markdown",
   "metadata": {},
   "source": [
    "After a model is created, you must call its `compile()` method to specify the loss function and the optimizer to use. Optionally, you can specify a list of extra metrics to compute during training and evaluation.\n",
    "\n",
    "We'll use many other [losses](https://keras.io/losses), [optimizers](https://keras.io/optimizers), and [metrics](https://keras.io/metrics) later.\n",
    "\n",
    "Here we use the `sparse_categorical_crossentropy` loss because we have sparse labels, and the classes are exclusive."
   ]
  },
  {
   "cell_type": "code",
   "execution_count": 6,
   "metadata": {},
   "outputs": [],
   "source": [
    "model.compile(loss=keras.losses.sparse_categorical_crossentropy,\n",
    "              optimizer=keras.optimizers.SGD(),\n",
    "              metrics=[keras.metrics.sparse_categorical_accuracy])"
   ]
  },
  {
   "cell_type": "markdown",
   "metadata": {},
   "source": [
    "Now the model is ready to be trained."
   ]
  },
  {
   "cell_type": "code",
   "execution_count": 7,
   "metadata": {
    "scrolled": true
   },
   "outputs": [
    {
     "name": "stdout",
     "output_type": "stream",
     "text": [
      "WARNING:tensorflow:From /home/yuanqili/dev/handson-ml/venv/lib/python3.7/site-packages/tensorflow/python/ops/math_grad.py:1250: add_dispatch_support.<locals>.wrapper (from tensorflow.python.ops.array_ops) is deprecated and will be removed in a future version.\n",
      "Instructions for updating:\n",
      "Use tf.where in 2.0, which has the same broadcast rule as np.where\n",
      "Train on 55000 samples, validate on 5000 samples\n",
      "Epoch 1/30\n",
      "55000/55000 [==============================] - 2s 43us/sample - loss: 0.7032 - sparse_categorical_accuracy: 0.7698 - val_loss: 0.4958 - val_sparse_categorical_accuracy: 0.8368\n",
      "Epoch 2/30\n",
      "55000/55000 [==============================] - 2s 31us/sample - loss: 0.4879 - sparse_categorical_accuracy: 0.8300 - val_loss: 0.4395 - val_sparse_categorical_accuracy: 0.8508\n",
      "Epoch 3/30\n",
      "55000/55000 [==============================] - 2s 31us/sample - loss: 0.4440 - sparse_categorical_accuracy: 0.8449 - val_loss: 0.4251 - val_sparse_categorical_accuracy: 0.8530\n",
      "Epoch 4/30\n",
      "55000/55000 [==============================] - 2s 31us/sample - loss: 0.4165 - sparse_categorical_accuracy: 0.8549 - val_loss: 0.3967 - val_sparse_categorical_accuracy: 0.8650\n",
      "Epoch 5/30\n",
      "55000/55000 [==============================] - 2s 31us/sample - loss: 0.3962 - sparse_categorical_accuracy: 0.8599 - val_loss: 0.3887 - val_sparse_categorical_accuracy: 0.8682\n",
      "Epoch 6/30\n",
      "55000/55000 [==============================] - 2s 31us/sample - loss: 0.3801 - sparse_categorical_accuracy: 0.8654 - val_loss: 0.3813 - val_sparse_categorical_accuracy: 0.8678\n",
      "Epoch 7/30\n",
      "55000/55000 [==============================] - 2s 31us/sample - loss: 0.3666 - sparse_categorical_accuracy: 0.8702 - val_loss: 0.3673 - val_sparse_categorical_accuracy: 0.8750\n",
      "Epoch 8/30\n",
      "55000/55000 [==============================] - 2s 31us/sample - loss: 0.3542 - sparse_categorical_accuracy: 0.8748 - val_loss: 0.3689 - val_sparse_categorical_accuracy: 0.8696\n",
      "Epoch 9/30\n",
      "55000/55000 [==============================] - 2s 31us/sample - loss: 0.3436 - sparse_categorical_accuracy: 0.8771 - val_loss: 0.3555 - val_sparse_categorical_accuracy: 0.8786\n",
      "Epoch 10/30\n",
      "55000/55000 [==============================] - 2s 31us/sample - loss: 0.3332 - sparse_categorical_accuracy: 0.8812 - val_loss: 0.3489 - val_sparse_categorical_accuracy: 0.8846\n",
      "Epoch 11/30\n",
      "55000/55000 [==============================] - 2s 31us/sample - loss: 0.3245 - sparse_categorical_accuracy: 0.8843 - val_loss: 0.3423 - val_sparse_categorical_accuracy: 0.8784\n",
      "Epoch 12/30\n",
      "55000/55000 [==============================] - 2s 31us/sample - loss: 0.3173 - sparse_categorical_accuracy: 0.8856 - val_loss: 0.3457 - val_sparse_categorical_accuracy: 0.8802\n",
      "Epoch 13/30\n",
      "55000/55000 [==============================] - 2s 31us/sample - loss: 0.3088 - sparse_categorical_accuracy: 0.8890 - val_loss: 0.3278 - val_sparse_categorical_accuracy: 0.8850\n",
      "Epoch 14/30\n",
      "55000/55000 [==============================] - 2s 31us/sample - loss: 0.3015 - sparse_categorical_accuracy: 0.8920 - val_loss: 0.3219 - val_sparse_categorical_accuracy: 0.8824\n",
      "Epoch 15/30\n",
      "55000/55000 [==============================] - 2s 31us/sample - loss: 0.2960 - sparse_categorical_accuracy: 0.8946 - val_loss: 0.3356 - val_sparse_categorical_accuracy: 0.8822\n",
      "Epoch 16/30\n",
      "55000/55000 [==============================] - 2s 31us/sample - loss: 0.2895 - sparse_categorical_accuracy: 0.8960 - val_loss: 0.3209 - val_sparse_categorical_accuracy: 0.8820\n",
      "Epoch 17/30\n",
      "55000/55000 [==============================] - 2s 31us/sample - loss: 0.2827 - sparse_categorical_accuracy: 0.8973 - val_loss: 0.3311 - val_sparse_categorical_accuracy: 0.8836\n",
      "Epoch 18/30\n",
      "55000/55000 [==============================] - 2s 31us/sample - loss: 0.2770 - sparse_categorical_accuracy: 0.9005 - val_loss: 0.3267 - val_sparse_categorical_accuracy: 0.8824\n",
      "Epoch 19/30\n",
      "55000/55000 [==============================] - 2s 31us/sample - loss: 0.2725 - sparse_categorical_accuracy: 0.9021 - val_loss: 0.3328 - val_sparse_categorical_accuracy: 0.8820\n",
      "Epoch 20/30\n",
      "55000/55000 [==============================] - 2s 31us/sample - loss: 0.2671 - sparse_categorical_accuracy: 0.9028 - val_loss: 0.3252 - val_sparse_categorical_accuracy: 0.8856\n",
      "Epoch 21/30\n",
      "55000/55000 [==============================] - 2s 31us/sample - loss: 0.2621 - sparse_categorical_accuracy: 0.9045 - val_loss: 0.3185 - val_sparse_categorical_accuracy: 0.8882\n",
      "Epoch 22/30\n",
      "55000/55000 [==============================] - 2s 31us/sample - loss: 0.2574 - sparse_categorical_accuracy: 0.9054 - val_loss: 0.3061 - val_sparse_categorical_accuracy: 0.8928\n",
      "Epoch 23/30\n",
      "55000/55000 [==============================] - 2s 31us/sample - loss: 0.2528 - sparse_categorical_accuracy: 0.9086 - val_loss: 0.3128 - val_sparse_categorical_accuracy: 0.8874\n",
      "Epoch 24/30\n",
      "55000/55000 [==============================] - 2s 31us/sample - loss: 0.2468 - sparse_categorical_accuracy: 0.9098 - val_loss: 0.3172 - val_sparse_categorical_accuracy: 0.8866\n",
      "Epoch 25/30\n",
      "55000/55000 [==============================] - 2s 31us/sample - loss: 0.2428 - sparse_categorical_accuracy: 0.9129 - val_loss: 0.3180 - val_sparse_categorical_accuracy: 0.8908\n",
      "Epoch 26/30\n",
      "55000/55000 [==============================] - 2s 31us/sample - loss: 0.2388 - sparse_categorical_accuracy: 0.9129 - val_loss: 0.3030 - val_sparse_categorical_accuracy: 0.8910\n",
      "Epoch 27/30\n",
      "55000/55000 [==============================] - 2s 31us/sample - loss: 0.2353 - sparse_categorical_accuracy: 0.9149 - val_loss: 0.3021 - val_sparse_categorical_accuracy: 0.8892\n",
      "Epoch 28/30\n",
      "55000/55000 [==============================] - 2s 31us/sample - loss: 0.2310 - sparse_categorical_accuracy: 0.9170 - val_loss: 0.2931 - val_sparse_categorical_accuracy: 0.8950\n",
      "Epoch 29/30\n",
      "55000/55000 [==============================] - 2s 31us/sample - loss: 0.2282 - sparse_categorical_accuracy: 0.9177 - val_loss: 0.3159 - val_sparse_categorical_accuracy: 0.8868\n",
      "Epoch 30/30\n",
      "55000/55000 [==============================] - 2s 31us/sample - loss: 0.2237 - sparse_categorical_accuracy: 0.9187 - val_loss: 0.3011 - val_sparse_categorical_accuracy: 0.8934\n"
     ]
    }
   ],
   "source": [
    "history = model.fit(X_train, y_train, epochs=30, validation_data=(X_valid, y_valid))"
   ]
  },
  {
   "cell_type": "markdown",
   "metadata": {},
   "source": [
    "The `fit()` method returns a `History` object containing\n",
    "\n",
    "- the training parameters (`history.params`),\n",
    "- the list of epochs it went through (`history.epoch`), and most importantly\n",
    "- a dictionary (`history.history`) containing the loss and extra metrics it measured at the end of each epoch on the training set and on the validation set (if any)."
   ]
  },
  {
   "cell_type": "code",
   "execution_count": 8,
   "metadata": {},
   "outputs": [
    {
     "data": {
      "image/png": "[encoded data removed]",
      "text/plain": [
       "<Figure size 576x360 with 1 Axes>"
      ]
     },
     "metadata": {
      "needs_background": "light"
     },
     "output_type": "display_data"
    }
   ],
   "source": [
    "import pandas as pd\n",
    "import matplotlib.pyplot as plt\n",
    "\n",
    "pd.DataFrame(history.history).plot(figsize=(8, 5))\n",
    "plt.grid(True)\n",
    "plt.gca().set_ylim(0, 1) # set the vertical range to [0-1]\n",
    "plt.show()"
   ]
  },
  {
   "cell_type": "markdown",
   "metadata": {},
   "source": [
    "You can see that both the training accuracy and the validation accuracy steadily increase during training, while the training loss and the validation loss decrease.\n",
    "\n",
    "If you are not satisfied with the performance of your model, you should go back and tune the *hyperparameters*.\n",
    "\n",
    "- learning rate\n",
    "- optimizer\n",
    "- the number of layers, neurons per layer, types of activation functions\n",
    "- batch size\n",
    "\n",
    "Once you are satisifed with your model's validation accuracy, you should evaluate it on the test set to estimate the generalization error before you deploy the model to production. You can easily do this using the `evaluate()` method."
   ]
  },
  {
   "cell_type": "code",
   "execution_count": 9,
   "metadata": {},
   "outputs": [
    {
     "name": "stdout",
     "output_type": "stream",
     "text": [
      "10000/10000 [==============================] - 0s 19us/sample - loss: 2.2580 - sparse_categorical_accuracy: 0.8576\n"
     ]
    },
    {
     "data": {
      "text/plain": [
       "[2.2580347490919697, 0.8576]"
      ]
     },
     "execution_count": 9,
     "metadata": {},
     "output_type": "execute_result"
    }
   ],
   "source": [
    "model.evaluate(X_test, y_test)"
   ]
  },
  {
   "cell_type": "markdown",
   "metadata": {},
   "source": [
    "Next, we can use the model's `predict()` method to make predictions on new instances. Since we don't have actual new instances, we will just use the first three instances of the test set."
   ]
  },
  {
   "cell_type": "code",
   "execution_count": 11,
   "metadata": {},
   "outputs": [
    {
     "data": {
      "text/plain": [
       "array([[0., 0., 0., 0., 0., 0., 0., 0., 0., 1.],\n",
       "       [0., 0., 1., 0., 0., 0., 0., 0., 0., 0.],\n",
       "       [0., 1., 0., 0., 0., 0., 0., 0., 0., 0.]], dtype=float32)"
      ]
     },
     "execution_count": 11,
     "metadata": {},
     "output_type": "execute_result"
    }
   ],
   "source": [
    "X_new = X_test[:3]\n",
    "y_proba = model.predict(X_new)\n",
    "y_proba.round(2)"
   ]
  },
  {
   "cell_type": "code",
   "execution_count": 15,
   "metadata": {},
   "outputs": [
    {
     "data": {
      "text/plain": [
       "array(['Ankle boot', 'Pullover', 'Trouser'], dtype='<U11')"
      ]
     },
     "execution_count": 15,
     "metadata": {},
     "output_type": "execute_result"
    }
   ],
   "source": [
    "import numpy as np\n",
    "\n",
    "y_pred = model.predict_classes(X_new)\n",
    "np.array(class_names)[y_pred]"
   ]
  },
  {
   "cell_type": "markdown",
   "metadata": {},
   "source": [
    "## Building a Regression MLP Using the Sequential API"
   ]
  },
  {
   "cell_type": "markdown",
   "metadata": {},
   "source": [
    "Let's switch to the California housing problem and tackle it using a regression neural network. For simplicity, we will use Scikit-Learn's `fetch_california_housint()` function to load the data."
   ]
  },
  {
   "cell_type": "code",
   "execution_count": 18,
   "metadata": {},
   "outputs": [
    {
     "name": "stderr",
     "output_type": "stream",
     "text": [
      "Downloading Cal. housing from https://ndownloader.figshare.com/files/5976036 to /home/yuanqili/scikit_learn_data\n"
     ]
    }
   ],
   "source": [
    "from sklearn.datasets import fetch_california_housing\n",
    "from sklearn.model_selection import train_test_split\n",
    "from sklearn.preprocessing import StandardScaler\n",
    "\n",
    "housing = fetch_california_housing()\n",
    "X_train_full, X_test, y_train_full, y_test = train_test_split(housing.data, housing.target)\n",
    "X_train, X_valid, y_train, y_valid = train_test_split(X_train_full, y_train_full)\n",
    "\n",
    "scaler = StandardScaler()\n",
    "X_train = scaler.fit_transform(X_train)\n",
    "X_valid = scaler.transform(X_valid)\n",
    "X_test = scaler.transform(X_test)"
   ]
  },
  {
   "cell_type": "markdown",
   "metadata": {},
   "source": [
    "Using the Sequential API to build, train, evaluate, and use a regression MLP to make predictions is quite similar to what we did for classification. The main differences are the fact that the output layer has a single neuron (since we only want to predict a single value) and uses no activation function, and the loss function is the mean squared error. Since the dataset is quite noisy, we just use a single hidden layer with fewer neurons than before, to avoid overfitting."
   ]
  },
  {
   "cell_type": "code",
   "execution_count": 20,
   "metadata": {},
   "outputs": [
    {
     "name": "stdout",
     "output_type": "stream",
     "text": [
      "Train on 11610 samples, validate on 3870 samples\n",
      "Epoch 1/20\n",
      "11610/11610 [==============================] - 0s 22us/sample - loss: 0.8475 - val_loss: 0.5575\n",
      "Epoch 2/20\n",
      "11610/11610 [==============================] - 0s 16us/sample - loss: 0.5548 - val_loss: 0.4167\n",
      "Epoch 3/20\n",
      "11610/11610 [==============================] - 0s 16us/sample - loss: 0.4624 - val_loss: 0.4005\n",
      "Epoch 4/20\n",
      "11610/11610 [==============================] - 0s 16us/sample - loss: 0.4277 - val_loss: 0.3820\n",
      "Epoch 5/20\n",
      "11610/11610 [==============================] - 0s 16us/sample - loss: 0.4170 - val_loss: 0.3936\n",
      "Epoch 6/20\n",
      "11610/11610 [==============================] - 0s 16us/sample - loss: 0.4101 - val_loss: 0.3670\n",
      "Epoch 7/20\n",
      "11610/11610 [==============================] - 0s 16us/sample - loss: 0.4083 - val_loss: 0.3734\n",
      "Epoch 8/20\n",
      "11610/11610 [==============================] - 0s 15us/sample - loss: 0.4212 - val_loss: 0.3597\n",
      "Epoch 9/20\n",
      "11610/11610 [==============================] - 0s 15us/sample - loss: 0.4069 - val_loss: 1.5702\n",
      "Epoch 10/20\n",
      "11610/11610 [==============================] - 0s 16us/sample - loss: 0.4896 - val_loss: 0.3677\n",
      "Epoch 11/20\n",
      "11610/11610 [==============================] - 0s 15us/sample - loss: 0.4014 - val_loss: 0.3582\n",
      "Epoch 12/20\n",
      "11610/11610 [==============================] - 0s 15us/sample - loss: 0.3951 - val_loss: 0.3554\n",
      "Epoch 13/20\n",
      "11610/11610 [==============================] - 0s 16us/sample - loss: 0.3902 - val_loss: 0.3507\n",
      "Epoch 14/20\n",
      "11610/11610 [==============================] - 0s 16us/sample - loss: 0.3897 - val_loss: 0.3478\n",
      "Epoch 15/20\n",
      "11610/11610 [==============================] - 0s 16us/sample - loss: 0.3857 - val_loss: 0.3475\n",
      "Epoch 16/20\n",
      "11610/11610 [==============================] - 0s 16us/sample - loss: 0.3804 - val_loss: 0.3439\n",
      "Epoch 17/20\n",
      "11610/11610 [==============================] - 0s 16us/sample - loss: 0.3837 - val_loss: 0.3407\n",
      "Epoch 18/20\n",
      "11610/11610 [==============================] - 0s 15us/sample - loss: 0.3792 - val_loss: 0.3364\n",
      "Epoch 19/20\n",
      "11610/11610 [==============================] - 0s 15us/sample - loss: 0.4573 - val_loss: 0.3446\n",
      "Epoch 20/20\n",
      "11610/11610 [==============================] - 0s 16us/sample - loss: 0.4112 - val_loss: 0.3519\n"
     ]
    }
   ],
   "source": [
    "model = keras.models.Sequential([\n",
    "    keras.layers.Dense(30, activation='relu', input_shape=X_train.shape[1:]),\n",
    "    keras.layers.Dense(1)\n",
    "])\n",
    "model.compile(loss='mean_squared_error', optimizer='sgd')\n",
    "history = model.fit(X_train, y_train, epochs=20, validation_data=(X_valid, y_valid))"
   ]
  },
  {
   "cell_type": "code",
   "execution_count": 21,
   "metadata": {},
   "outputs": [
    {
     "name": "stdout",
     "output_type": "stream",
     "text": [
      "5160/5160 [==============================] - 0s 7us/sample - loss: 0.3850\n"
     ]
    }
   ],
   "source": [
    "mse_test = model.evaluate(X_test, y_test)"
   ]
  },
  {
   "cell_type": "code",
   "execution_count": 23,
   "metadata": {},
   "outputs": [
    {
     "data": {
      "text/plain": [
       "array([[0.90552217],\n",
       "       [1.2554828 ],\n",
       "       [2.1470141 ]], dtype=float32)"
      ]
     },
     "execution_count": 23,
     "metadata": {},
     "output_type": "execute_result"
    }
   ],
   "source": [
    "X_new = X_test[:3]\n",
    "y_pred = model.predict(X_new)\n",
    "y_pred"
   ]
  },
  {
   "cell_type": "markdown",
   "metadata": {},
   "source": [
    "## Building Complex Models Using the Functional API"
   ]
  },
  {
   "cell_type": "markdown",
   "metadata": {},
   "source": [
    "Although `Sequential` models are extremely common, it is somtimes useful to build neural networks with more complex topologies, or with multiple inputs or outputs. For this purpose, Keras offers the Functional API.\n",
    "\n",
    "One example of a nonsequential neural network is a *Wide & Deep* network. It connects all or part of the inputs directly to the output layer, making it possible for the neural network to learn both deep patterns (using the deep path) and simple rules (through the short path).\n",
    "\n",
    "Let's build such a neural network to tackle the California housing problem."
   ]
  },
  {
   "cell_type": "code",
   "execution_count": 25,
   "metadata": {},
   "outputs": [
    {
     "name": "stdout",
     "output_type": "stream",
     "text": [
      "Model: \"model_1\"\n",
      "__________________________________________________________________________________________________\n",
      "Layer (type)                    Output Shape         Param #     Connected to                     \n",
      "==================================================================================================\n",
      "input_2 (InputLayer)            [(None, 8)]          0                                            \n",
      "__________________________________________________________________________________________________\n",
      "dense_10 (Dense)                (None, 30)           270         input_2[0][0]                    \n",
      "__________________________________________________________________________________________________\n",
      "dense_11 (Dense)                (None, 30)           930         dense_10[0][0]                   \n",
      "__________________________________________________________________________________________________\n",
      "concatenate_1 (Concatenate)     (None, 38)           0           input_2[0][0]                    \n",
      "                                                                 dense_11[0][0]                   \n",
      "__________________________________________________________________________________________________\n",
      "dense_12 (Dense)                (None, 1)            39          concatenate_1[0][0]              \n",
      "==================================================================================================\n",
      "Total params: 1,239\n",
      "Trainable params: 1,239\n",
      "Non-trainable params: 0\n",
      "__________________________________________________________________________________________________\n"
     ]
    }
   ],
   "source": [
    "input_  = keras.layers.Input(shape=X_train.shape[1:])\n",
    "hidden1 = keras.layers.Dense(30, activation='relu')(input_)\n",
    "hidden2 = keras.layers.Dense(30, activation='relu')(hidden1)\n",
    "concat  = keras.layers.Concatenate()([input_, hidden2])\n",
    "output  = keras.layers.Dense(1)(concat)\n",
    "model   = keras.Model(inputs=[input_], outputs=[output])\n",
    "model.summary()"
   ]
  },
  {
   "cell_type": "markdown",
   "metadata": {},
   "source": [
    "Let's go through each line of this code:\n",
    "\n",
    "- First, we need to create an `Input` object. A model may actually have multiple inputs, as we will see shortly.\n",
    "- Next, we create a `Dense` layer with 30 neurons, using the ReLU activation function.\n",
    "- We then create a second hidden layer.\n",
    "- Next, we create a `Concatenate` layer, and once again we immediately use it like a function.\n",
    "- Then, we create the output layer, with a single neuron, and no activation function, and we call it like a function, passing it the result of the concatenation.\n",
    "- Lastly, we create a Keras `Model`, specifying which inputs and outputs to use."
   ]
  },
  {
   "cell_type": "code",
   "execution_count": 27,
   "metadata": {},
   "outputs": [],
   "source": [
    "input_A = keras.layers.Input(shape=[5], name='wide_input')\n",
    "input_B = keras.layers.Input(shape=[5], name='deep_input')"
   ]
  }
 ],
 "metadata": {
  "kernelspec": {
   "display_name": "Python 3",
   "language": "python",
   "name": "python3"
  },
  "language_info": {
   "codemirror_mode": {
    "name": "ipython",
    "version": 3
   },
   "file_extension": ".py",
   "mimetype": "text/x-python",
   "name": "python",
   "nbconvert_exporter": "python",
   "pygments_lexer": "ipython3",
   "version": "3.7.5"
  }
 },
 "nbformat": 4,
 "nbformat_minor": 4
}
